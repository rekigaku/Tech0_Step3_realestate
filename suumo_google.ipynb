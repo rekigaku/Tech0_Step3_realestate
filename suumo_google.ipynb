{
 "cells": [
  {
   "cell_type": "code",
   "execution_count": 1,
   "metadata": {},
   "outputs": [],
   "source": [
    "import gspread\n",
    "from oauth2client.service_account import ServiceAccountCredentials\n",
    "import pandas as pd\n",
    "from gspread_dataframe import set_with_dataframe\n",
    "import json\n",
    "\n"
   ]
  },
  {
   "cell_type": "code",
   "execution_count": 5,
   "metadata": {},
   "outputs": [],
   "source": [
    "# 構成ファイルから設定を読み込む\n",
    "with open('config.json') as config_file:\n",
    "    config = json.load(config_file)\n",
    "\n",
    "# Google Sheets APIの認証情報を設定\n",
    "scope = ['https://spreadsheets.google.com/feeds', 'https://www.googleapis.com/auth/drive']\n",
    "creds = ServiceAccountCredentials.from_json_keyfile_name(config['GOOGLE_SHEETS_CREDENTIALS_JSON'], scope)\n",
    "client = gspread.authorize(creds)\n",
    "\n",
    "# スプレッドシートを開く\n",
    "sheet = client.open(config['SPREADSHEET_NAME']).sheet1\n",
    "\n",
    "# CSVファイルを読み込む\n",
    "data = pd.read_csv(config['CSV_FILE_PATH'])\n",
    "\n",
    "# DataFrameをスプレッドシートに転送\n",
    "set_with_dataframe(sheet, data)\n"
   ]
  },
  {
   "cell_type": "code",
   "execution_count": null,
   "metadata": {},
   "outputs": [],
   "source": []
  }
 ],
 "metadata": {
  "kernelspec": {
   "display_name": "Python 3",
   "language": "python",
   "name": "python3"
  },
  "language_info": {
   "codemirror_mode": {
    "name": "ipython",
    "version": 3
   },
   "file_extension": ".py",
   "mimetype": "text/x-python",
   "name": "python",
   "nbconvert_exporter": "python",
   "pygments_lexer": "ipython3",
   "version": "3.10.13"
  }
 },
 "nbformat": 4,
 "nbformat_minor": 2
}
