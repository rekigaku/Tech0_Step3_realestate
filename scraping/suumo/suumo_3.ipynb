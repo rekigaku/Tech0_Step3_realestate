{
 "cells": [
  {
   "cell_type": "code",
   "execution_count": 22,
   "id": "dcb0901d-5006-40f0-9d25-45261331e74a",
   "metadata": {
    "tags": []
   },
   "outputs": [],
   "source": [
    "import requests\n",
    "from bs4 import BeautifulSoup\n",
    "import pandas as pd\n",
    "from time import sleep\n",
    "\n",
    "# 空のDataFrameを作成\n",
    "columns = [\"物件名\", \"住所\", \"アクセス\", \"築年数\", \"階数\", \"家賃\", \"管理費\", \"間取り\", \"広さ\"]\n",
    "df = pd.DataFrame(columns=columns)\n",
    "\n",
    "# ベースとなるURL（ページ番号を含む）\n",
    "base_url = \"https://bridal.suumo.jp/jj/chintai/ichiran/FR301FC001/?ar=030&bs=040&ta=13&sc=13101&sc=13102&sc=13103&sc=13104&sc=13105&sc=13113&sc=13107&sc=13109&sc=13110&sc=13111&sc=13112&sc=13115&cb=0.0&ct=9999999&et=10&ts=1&cn=9999999&mb=0&mt=9999999&shkr1=03&shkr2=03&shkr3=03&shkr4=03&fw2=&srch_navi=1\"\n",
    "\n",
    "# 1ページから135ページまでスクレイピング\n",
    "for page_num in range(1, 136):\n",
    "    # ページ番号をURLに組み込む\n",
    "    url = f\"{base_url}&page={page_num}\"\n",
    "    response = requests.get(url)\n",
    "    soup = BeautifulSoup(response.text, 'html.parser')\n",
    "    sleep(1)\n",
    "\n",
    "    # 各物件の情報をループ\n",
    "    for property_row in soup.find_all('div', class_='cassetteitem'):\n",
    "        property_name = property_row.find('div', class_='cassetteitem_content-title').text.strip()  # 物件名\n",
    "        address = property_row.find('li', class_='cassetteitem_detail-col1').text.strip()  # 住所\n",
    "        access = ' '.join([div.text.strip() for div in property_row.find_all('div', class_='cassetteitem_detail-text')])  # アクセス\n",
    "        age = property_row.find('li', class_='cassetteitem_detail-col3').div.text.strip()  # 築年数\n",
    "\n",
    "        # 同じ物件の異なる部屋情報を取得\n",
    "        for room_row in property_row.find_all('tbody')[0].find_all('tr'):\n",
    "            floor = room_row.find_all('td')[2].text.strip()  # 階数\n",
    "            rent = room_row.find_all('td')[3].text.strip()  # 家賃\n",
    "            management_fee = room_row.find_all('td')[4].text.strip() if room_row.find_all('td')[4].text.strip() != '-' else '0円'  # 管理費\n",
    "            layout = room_row.find_all('td')[6].text.strip()  # 間取り\n",
    "            size = room_row.find_all('td')[7].text.strip()  # 広さ\n",
    "\n",
    "            # 新しい行を作成してDataFrameに追加\n",
    "            new_row = pd.DataFrame([[property_name, address, access, age, floor, rent, management_fee, layout, size]], columns=columns)\n",
    "            df = pd.concat([df, new_row], ignore_index=True)\n",
    "\n",
    "# DataFrameをCSVファイルに出力\n",
    "csv_file = 'suumo_rental_data.csv' \n",
    "df.to_csv(csv_file, index=False, encoding='utf-8-sig')\n"
   ]
  },
  {
   "cell_type": "code",
   "execution_count": null,
   "id": "09880dcf-abd9-46f1-bbc0-a224f3521a76",
   "metadata": {},
   "outputs": [],
   "source": []
  }
 ],
 "metadata": {
  "kernelspec": {
   "display_name": "Python 3 (ipykernel)",
   "language": "python",
   "name": "python3"
  },
  "language_info": {
   "codemirror_mode": {
    "name": "ipython",
    "version": 3
   },
   "file_extension": ".py",
   "mimetype": "text/x-python",
   "name": "python",
   "nbconvert_exporter": "python",
   "pygments_lexer": "ipython3",
   "version": "3.11.3"
  }
 },
 "nbformat": 4,
 "nbformat_minor": 5
}
